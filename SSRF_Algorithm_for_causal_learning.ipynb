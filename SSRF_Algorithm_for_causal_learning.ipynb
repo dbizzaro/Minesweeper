{
  "nbformat": 4,
  "nbformat_minor": 0,
  "metadata": {
    "colab": {
      "name": "SSRF Algorithm for causal learning.ipynb",
      "provenance": [],
      "include_colab_link": true
    },
    "kernelspec": {
      "name": "python3",
      "display_name": "Python 3"
    },
    "language_info": {
      "name": "python"
    }
  },
  "cells": [
    {
      "cell_type": "markdown",
      "metadata": {
        "id": "view-in-github",
        "colab_type": "text"
      },
      "source": [
        "<a href=\"https://colab.research.google.com/github/dbizzaro/Minesweeper/blob/main/SSRF_Algorithm_for_causal_learning.ipynb\" target=\"_parent\"><img src=\"https://colab.research.google.com/assets/colab-badge.svg\" alt=\"Open In Colab\"/></a>"
      ]
    },
    {
      "cell_type": "code",
      "source": [
        "!pip install igraph"
      ],
      "metadata": {
        "colab": {
          "base_uri": "https://localhost:8080/"
        },
        "id": "S77or0vTGpcd",
        "outputId": "95fae4c3-ed6b-4638-9f54-5d3cb7e9668a"
      },
      "execution_count": 1,
      "outputs": [
        {
          "output_type": "stream",
          "name": "stdout",
          "text": [
            "Looking in indexes: https://pypi.org/simple, https://us-python.pkg.dev/colab-wheels/public/simple/\n",
            "Requirement already satisfied: igraph in /usr/local/lib/python3.7/dist-packages (0.9.11)\n",
            "Requirement already satisfied: texttable>=1.6.2 in /usr/local/lib/python3.7/dist-packages (from igraph) (1.6.4)\n"
          ]
        }
      ]
    },
    {
      "cell_type": "code",
      "source": [
        "!git clone https://github.com/xunzheng/notears.git"
      ],
      "metadata": {
        "id": "zurNl2ye4o_j",
        "outputId": "ce05ee6d-66cc-4a79-dde6-7d8769541a5d",
        "colab": {
          "base_uri": "https://localhost:8080/"
        }
      },
      "execution_count": 2,
      "outputs": [
        {
          "output_type": "stream",
          "name": "stdout",
          "text": [
            "fatal: destination path 'notears' already exists and is not an empty directory.\n"
          ]
        }
      ]
    },
    {
      "cell_type": "code",
      "source": [
        "import numpy as np\n",
        "import igraph as ig"
      ],
      "metadata": {
        "id": "q1ddG_ZO3_g4"
      },
      "execution_count": 3,
      "outputs": []
    },
    {
      "cell_type": "code",
      "source": [
        "import scipy.linalg as slin\n",
        "import scipy.optimize as sopt\n",
        "from scipy.special import expit as sigmoid\n",
        "import random\n",
        "\n",
        "import sys\n",
        "sys.path.insert(0,'/notears/notears/') \n",
        "\n",
        "from notears.notears.linear import notears_linear\n",
        "from notears.notears.utils import is_dag, simulate_dag, simulate_parameter, simulate_linear_sem, count_accuracy"
      ],
      "metadata": {
        "id": "Haa80Wj463nL"
      },
      "execution_count": 4,
      "outputs": []
    },
    {
      "cell_type": "code",
      "source": [
        "def minplus_sum(A,B):\n",
        "  '''\n",
        "  matricial sum in the minplus semiring\n",
        "  '''\n",
        "  m, n = A.shape\n",
        "  Y = np.zeros((m,n))\n",
        "  for i in range(m):\n",
        "    for j in range(n):\n",
        "      Y[i,j] = min(A[i,j], B[i,j])\n",
        "  return Y\n",
        "\n",
        "def minplus_product(A,B):\n",
        "  '''\n",
        "  matricial sum in the minplus semiring\n",
        "  see https://stackoverflow.com/questions/47359743/how-to-make-min-plus-matrix-multiplication-in-python-faster for a better implementation\n",
        "  '''\n",
        "  m = A.shape[0]\n",
        "  n = B.shape[1]\n",
        "  Y = np.zeros((m,n))\n",
        "  for i in range(m):\n",
        "    for j in range(n):\n",
        "      Y[i,j] = min(A[i,:] + B[:,j])\n",
        "  return Y\n",
        "\n",
        "def minplus_identity(n):\n",
        "  '''\n",
        "  produce the identity matrix of dimension nxn wrt the minplus semiring\n",
        "  '''\n",
        "  matrix = np.full((n,n), np.inf)\n",
        "  for i in range(n):\n",
        "    matrix[i,i] = 0\n",
        "  return matrix"
      ],
      "metadata": {
        "id": "fMB2kEV2Dzzp"
      },
      "execution_count": 5,
      "outputs": []
    },
    {
      "cell_type": "code",
      "source": [
        "def transitive_closure(W):\n",
        "  '''\n",
        "  Floyd-Warshall algorithm for computing the \"shortest path\" weighted transitive closure\n",
        "  '''\n",
        "  W_bar = W.copy()\n",
        "  n = W.shape[0]\n",
        "  for k in range(n):\n",
        "    for i in range(n):\n",
        "      for j in range(n):\n",
        "        W_bar[i,j] = min(W_bar[i,j], W_bar[i,k]+W_bar[k,j])\n",
        "  return W_bar"
      ],
      "metadata": {
        "id": "bW-Ug1oIBjPb"
      },
      "execution_count": 6,
      "outputs": []
    },
    {
      "cell_type": "code",
      "source": [
        "def signals_from_spectra(W, C, W_transitively_closed = False):\n",
        "  '''\n",
        "  returns matrix of signals, given matrix of weights and matrix of spectra\n",
        "  set W_transitively_closed to True only if sure that W is already transitively closed\n",
        "  '''\n",
        "  m, n = C.shape\n",
        "  if not W_transitively_closed:\n",
        "    W = transitive_closure(W)\n",
        "  X = minplus_sum(C, minplus_product(C, W))\n",
        "  return X"
      ],
      "metadata": {
        "id": "YTy6Zrom_IAa"
      },
      "execution_count": 7,
      "outputs": []
    },
    {
      "cell_type": "code",
      "source": [
        "def from_semiring(W):\n",
        "  return np.where(W == np.inf, 0, W)\n",
        "\n",
        "def to_semiring(W):\n",
        "  return np.where(W == 0, np.inf, W)"
      ],
      "metadata": {
        "id": "-9AEL5EWZ0q7"
      },
      "execution_count": 8,
      "outputs": []
    },
    {
      "cell_type": "code",
      "source": [
        "def simulate_weighted_dag(B, range = (0.4,0.8)):\n",
        "  '''\n",
        "  generate matrix of random weights, given an adjacency matrix\n",
        "  the weights have uniform distribution between 0 and \"range\"\n",
        "  '''\n",
        "  W = (range[0] + (range[1]-range[0]) * np.random.rand(B.shape[0], B.shape[1])) * B\n",
        "  return to_semiring(W)"
      ],
      "metadata": {
        "id": "YY9lDt8uVyUl"
      },
      "execution_count": 9,
      "outputs": []
    },
    {
      "cell_type": "code",
      "source": [
        "def uniform_random_spectra(m, n, range=2, prob = 0.1):\n",
        "  '''\n",
        "  generate matrix of random spectra, given the dimensions\n",
        "  the elements have probability \"prob\" to be finite, and in that case have uniform distribution between 0 and \"range\"\n",
        "  '''\n",
        "  C = range * np.random.rand(m,n) * np.random.binomial(1, prob, (m,n))\n",
        "  return to_semiring(C)\n",
        "\n",
        "\n",
        "def uniform_random_noise(m, n, range=0.1):\n",
        "  return range * np.random.rand(m,n)\n",
        "\n",
        "def gaussian_random_noise(m, n, sigma=0.03):\n",
        "  return np.random.normal(0, sigma, size=(m, n))"
      ],
      "metadata": {
        "id": "8h0c2hieNXHJ"
      },
      "execution_count": 17,
      "outputs": []
    },
    {
      "cell_type": "code",
      "execution_count": 11,
      "metadata": {
        "id": "yNNXxbhGyl8w"
      },
      "outputs": [],
      "source": [
        "def core_algorithm(X, eps = 1e-12):\n",
        "  '''\n",
        "  causal learning algorithm that returns a possible matrix of weights given a set of signals. \n",
        "  eps represents the tolerance wrt equality\n",
        "  d represents the number of signals that could indicate edges that we ask for before drawing that edge\n",
        "  '''\n",
        "  m, n = X.shape\n",
        "  maximums = np.zeros((n,n), dtype=X.dtype)\n",
        "  signals = [[[] for i in range(n)] for j in range(n)]\n",
        "  for i in range(n):\n",
        "    for j in range(n):\n",
        "      if i != j:\n",
        "        for k in range(m):\n",
        "          if np.isposinf(X[k,i]):\n",
        "            w = -np.inf\n",
        "          elif np.isposinf(X[k,j]):\n",
        "            maximums[i,j] = np.inf\n",
        "            break\n",
        "          else:\n",
        "            w = X[k,j] - X[k,i]\n",
        "          if w > maximums[i,j]:\n",
        "            maximums[i,j] = w\n",
        "            if w > maximums[i,j] + eps:\n",
        "              signals[i][j] = []\n",
        "            signals[i][j] = [k2 for k2 in signals[i][j] if X[k2,j]-X[k2,i]>w-eps]\n",
        "          if abs(w - maximums[i,j]) < eps:\n",
        "            signals[i][j].append(k)\n",
        "  counters = np.zeros((n,n), dtype=np.int_)\n",
        "  for i in range(n):\n",
        "    for j in range(n):\n",
        "      if i != j and len(signals[i][j]) > 1 and maximums[i,j] > 0 and not np.isposinf(maximums[i,j]):\n",
        "        for k in signals[i][j]:\n",
        "          flag = False\n",
        "          for l in range(n):\n",
        "            if l != i and l != j and abs(X[k,j]-X[k,l]-maximums[l,j])<eps and abs(X[k,i]-X[k,l]-maximums[l,i])<eps and X[k,j]-X[k,l]>0 and X[k,i]-X[k,l]>0:\n",
        "              flag = True\n",
        "              break\n",
        "          if flag == False:\n",
        "            counters[i,j] += 1\n",
        "  return maximums, counters\n",
        "\n",
        "\n",
        "def reconstruct_W(maximums, counters, threshold):\n",
        "  W_hat = np.where(counters > threshold, maximums, np.inf)\n",
        "  return transitive_closure(W_hat)\n",
        "\n",
        "\n",
        "def algorithm(X, threshold=1, eps=1e-12):\n",
        "  maximums, counters = core_algorithm(X, eps)\n",
        "  return reconstruct_W(maximums, counters, threshold)"
      ]
    },
    {
      "cell_type": "code",
      "source": [
        "def print_differences(W_real, W_reconstructed, eps=1e-12):\n",
        "  '''\n",
        "  prints the number of edges in \"W_real\" that are not in \"W_reconstructed\"\n",
        "  '''\n",
        "  counter_missed = 0\n",
        "  counter_greater = 0\n",
        "  counter_lower = 0\n",
        "  counter_added = 0\n",
        "  for i in range(W_real.shape[0]):\n",
        "    for j in range(W_real.shape[1]):\n",
        "      if np.isposinf(W_real[i,j]) and not np.isposinf(W_reconstructed[i,j]):\n",
        "        counter_added += 1\n",
        "      elif not np.isposinf(W_real[i,j]) and np.isposinf(W_reconstructed[i,j]):\n",
        "        counter_missed += 1\n",
        "      elif not np.isposinf(W_real[i,j]) and not np.isposinf(W_reconstructed[i,j]) and W_reconstructed[i,j]-W_real[i,j]>eps:\n",
        "        counter_greater += 1\n",
        "      elif not np.isposinf(W_real[i,j]) and not np.isposinf(W_reconstructed[i,j]) and -W_reconstructed[i,j]+W_real[i,j]>eps:\n",
        "        counter_lower += 1\n",
        "  print(\"Total number of edges:                    {}\".format((W_real != np.inf).sum()))\n",
        "  print(\"Edges missed:                             {}\".format(counter_missed))\n",
        "  print(\"Edges that are not there:                 {}\".format(counter_added))\n",
        "  print(\"Edges found with weight larger than real: {}\".format(counter_greater))\n",
        "  print(\"Edges found with weight lower than real:  {}\".format(counter_lower))  \n"
      ],
      "metadata": {
        "id": "8mobCNFFLBk8"
      },
      "execution_count": 12,
      "outputs": []
    },
    {
      "cell_type": "code",
      "source": [
        "m, n = 500, 100\n",
        "W = simulate_weighted_dag(simulate_dag(n, 500, 'ER'))\n",
        "W_bar = transitive_closure(W)\n",
        "X = signals_from_spectra(W_bar, uniform_random_spectra(m,n), True) + uniform_random_noise(m,n)\n",
        "W_bar"
      ],
      "metadata": {
        "colab": {
          "base_uri": "https://localhost:8080/"
        },
        "id": "g7elhpFUyU8Q",
        "outputId": "3f0d7902-c35f-4094-86d6-5d585eb30f5f"
      },
      "execution_count": 13,
      "outputs": [
        {
          "output_type": "execute_result",
          "data": {
            "text/plain": [
              "array([[        inf, 14.37473463,         inf, ..., 12.53764271,\n",
              "                inf,         inf],\n",
              "       [        inf,         inf,         inf, ...,         inf,\n",
              "                inf,         inf],\n",
              "       [        inf,         inf,         inf, ...,  9.22188749,\n",
              "                inf,         inf],\n",
              "       ...,\n",
              "       [        inf,         inf,         inf, ...,         inf,\n",
              "                inf,         inf],\n",
              "       [        inf, 10.75856064,         inf, ..., 10.50662009,\n",
              "                inf,         inf],\n",
              "       [        inf,         inf,         inf, ...,         inf,\n",
              "                inf,         inf]])"
            ]
          },
          "metadata": {},
          "execution_count": 13
        }
      ]
    },
    {
      "cell_type": "code",
      "source": [
        "maximums, counters = core_algorithm(X, eps=2)"
      ],
      "metadata": {
        "id": "AHqDVHGlzZcM"
      },
      "execution_count": 14,
      "outputs": []
    },
    {
      "cell_type": "code",
      "source": [
        "W_reconstructed = reconstruct_W(maximums, counters, 7)\n",
        "print(is_dag(from_semiring(W_reconstructed)))\n",
        "W_reconstructed"
      ],
      "metadata": {
        "colab": {
          "base_uri": "https://localhost:8080/"
        },
        "id": "EiXe1JoDBTwP",
        "outputId": "a205ead0-fc33-4073-9cb8-4eb303feb68d"
      },
      "execution_count": 15,
      "outputs": [
        {
          "output_type": "stream",
          "name": "stdout",
          "text": [
            "True\n"
          ]
        },
        {
          "output_type": "execute_result",
          "data": {
            "text/plain": [
              "array([[        inf, 15.26491593,         inf, ..., 13.09793552,\n",
              "                inf,         inf],\n",
              "       [        inf,         inf,         inf, ...,         inf,\n",
              "                inf,         inf],\n",
              "       [        inf,         inf,         inf, ..., 10.02888993,\n",
              "                inf,         inf],\n",
              "       ...,\n",
              "       [        inf,         inf,         inf, ...,         inf,\n",
              "                inf,         inf],\n",
              "       [        inf, 11.57794915,         inf, ..., 11.13974881,\n",
              "                inf,         inf],\n",
              "       [        inf,         inf,         inf, ...,         inf,\n",
              "                inf,         inf]])"
            ]
          },
          "metadata": {},
          "execution_count": 15
        }
      ]
    },
    {
      "cell_type": "code",
      "source": [
        "print_differences(W_bar, W_reconstructed, eps=2)"
      ],
      "metadata": {
        "colab": {
          "base_uri": "https://localhost:8080/"
        },
        "id": "olBGmNYyQOM1",
        "outputId": "9d69d73d-ce33-4140-f24d-1af9f7270404"
      },
      "execution_count": 16,
      "outputs": [
        {
          "output_type": "stream",
          "name": "stdout",
          "text": [
            "Total number of edges:                    2812\n",
            "Edges missed:                             96\n",
            "Edges that are not there:                 0\n",
            "Edges found with weight larger than real: 87\n",
            "Edges found with weight lower than real:  0\n"
          ]
        }
      ]
    }
  ]
}