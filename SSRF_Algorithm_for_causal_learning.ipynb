{
  "nbformat": 4,
  "nbformat_minor": 0,
  "metadata": {
    "colab": {
      "name": "SSRF Algorithm for causal learning.ipynb",
      "provenance": [],
      "include_colab_link": true
    },
    "kernelspec": {
      "name": "python3",
      "display_name": "Python 3"
    },
    "language_info": {
      "name": "python"
    }
  },
  "cells": [
    {
      "cell_type": "markdown",
      "metadata": {
        "id": "view-in-github",
        "colab_type": "text"
      },
      "source": [
        "<a href=\"https://colab.research.google.com/github/dbizzaro/Minesweeper/blob/main/SSRF_Algorithm_for_causal_learning.ipynb\" target=\"_parent\"><img src=\"https://colab.research.google.com/assets/colab-badge.svg\" alt=\"Open In Colab\"/></a>"
      ]
    },
    {
      "cell_type": "code",
      "source": [
        "!pip install igraph"
      ],
      "metadata": {
        "colab": {
          "base_uri": "https://localhost:8080/"
        },
        "id": "S77or0vTGpcd",
        "outputId": "8f7c7eb5-22cf-4455-e95e-513410276445"
      },
      "execution_count": 1,
      "outputs": [
        {
          "output_type": "stream",
          "name": "stdout",
          "text": [
            "Looking in indexes: https://pypi.org/simple, https://us-python.pkg.dev/colab-wheels/public/simple/\n",
            "Requirement already satisfied: igraph in /usr/local/lib/python3.7/dist-packages (0.9.11)\n",
            "Requirement already satisfied: texttable>=1.6.2 in /usr/local/lib/python3.7/dist-packages (from igraph) (1.6.4)\n"
          ]
        }
      ]
    },
    {
      "cell_type": "code",
      "source": [
        "!git clone https://github.com/xunzheng/notears.git"
      ],
      "metadata": {
        "id": "zurNl2ye4o_j",
        "outputId": "1af61e0b-1e49-4763-b001-170a77f7ade7",
        "colab": {
          "base_uri": "https://localhost:8080/"
        }
      },
      "execution_count": 2,
      "outputs": [
        {
          "output_type": "stream",
          "name": "stdout",
          "text": [
            "fatal: destination path 'notears' already exists and is not an empty directory.\n"
          ]
        }
      ]
    },
    {
      "cell_type": "code",
      "source": [
        "import numpy as np\n",
        "import igraph as ig"
      ],
      "metadata": {
        "id": "q1ddG_ZO3_g4"
      },
      "execution_count": 3,
      "outputs": []
    },
    {
      "cell_type": "code",
      "source": [
        "import scipy.linalg as slin\n",
        "import scipy.optimize as sopt\n",
        "from scipy.special import expit as sigmoid\n",
        "import random\n",
        "\n",
        "import sys\n",
        "sys.path.insert(0,'/notears/notears/') \n",
        "\n",
        "from notears.notears.linear import notears_linear\n",
        "from notears.notears.utils import is_dag, simulate_dag, simulate_parameter, simulate_linear_sem, count_accuracy"
      ],
      "metadata": {
        "id": "Haa80Wj463nL"
      },
      "execution_count": 4,
      "outputs": []
    },
    {
      "cell_type": "code",
      "source": [
        "def minplus_sum(A,B):\n",
        "  '''\n",
        "  matricial sum in the minplus semiring\n",
        "  '''\n",
        "  m, n = A.shape\n",
        "  Y = np.zeros((m,n))\n",
        "  for i in range(m):\n",
        "    for j in range(n):\n",
        "      Y[i,j] = min(A[i,j], B[i,j])\n",
        "  return Y\n",
        "\n",
        "def minplus_product(A,B):\n",
        "  '''\n",
        "  matricial sum in the minplus semiring\n",
        "  see https://stackoverflow.com/questions/47359743/how-to-make-min-plus-matrix-multiplication-in-python-faster for a better implementation\n",
        "  '''\n",
        "  m = A.shape[0]\n",
        "  n = B.shape[1]\n",
        "  Y = np.zeros((m,n))\n",
        "  for i in range(m):\n",
        "    for j in range(n):\n",
        "      Y[i,j] = min(A[i,:] + B[:,j])\n",
        "  return Y\n",
        "\n",
        "def minplus_identity(n):\n",
        "  '''\n",
        "  produce the identity matrix of dimension nxn wrt the minplus semiring\n",
        "  '''\n",
        "  matrix = np.full((n,n), np.inf)\n",
        "  for i in range(n):\n",
        "    matrix[i,i] = 0\n",
        "  return matrix"
      ],
      "metadata": {
        "id": "fMB2kEV2Dzzp"
      },
      "execution_count": 5,
      "outputs": []
    },
    {
      "cell_type": "code",
      "source": [
        "def transitive_closure(W):\n",
        "  '''\n",
        "  Floyd-Warshall algorithm for computing the \"shortest path\" weighted transitive closure\n",
        "  '''\n",
        "  W_bar = W.copy()\n",
        "  n = W.shape[0]\n",
        "  for k in range(n):\n",
        "    for i in range(n):\n",
        "      for j in range(n):\n",
        "        W_bar[i,j] = min(W_bar[i,j], W_bar[i,k]+W_bar[k,j])\n",
        "  return W_bar"
      ],
      "metadata": {
        "id": "bW-Ug1oIBjPb"
      },
      "execution_count": 6,
      "outputs": []
    },
    {
      "cell_type": "code",
      "source": [
        "def signals_from_spectra(W, C, W_transitively_closed = False):\n",
        "  '''\n",
        "  returns matrix of signals, given matrix of weights and matrix of spectra\n",
        "  set W_transitively_closed to True only if sure that W is already transitively closed\n",
        "  '''\n",
        "  m, n = C.shape\n",
        "  if not W_transitively_closed:\n",
        "    W = transitive_closure(W)\n",
        "  X = minplus_sum(C, minplus_product(C, W))\n",
        "  return X"
      ],
      "metadata": {
        "id": "YTy6Zrom_IAa"
      },
      "execution_count": 7,
      "outputs": []
    },
    {
      "cell_type": "code",
      "source": [
        "def from_semiring(W):\n",
        "  return np.where(W == np.inf, 0, W)\n",
        "\n",
        "def to_semiring(W):\n",
        "  return np.where(W == 0, np.inf, W)\n",
        "\n",
        "def to_maxtimes(H):\n",
        "  return np.exp(-H)\n",
        "\n",
        "def from_maxtimes(H):\n",
        "  return -np.log(H)"
      ],
      "metadata": {
        "id": "-9AEL5EWZ0q7"
      },
      "execution_count": 32,
      "outputs": []
    },
    {
      "cell_type": "code",
      "source": [
        "def simulate_weighted_dag(B, range = (0.4,0.8)):\n",
        "  '''\n",
        "  generate matrix of random weights, given an adjacency matrix\n",
        "  the weights have uniform distribution between 0 and \"range\"\n",
        "  '''\n",
        "  W = (range[0] + (range[1]-range[0]) * np.random.rand(B.shape[0], B.shape[1])) * B\n",
        "  return to_semiring(W)"
      ],
      "metadata": {
        "id": "YY9lDt8uVyUl"
      },
      "execution_count": 9,
      "outputs": []
    },
    {
      "cell_type": "code",
      "source": [
        "def uniform_random_spectra(m, n, range=2, prob = 0.1):\n",
        "  '''\n",
        "  generate matrix of random spectra, given the dimensions\n",
        "  the elements have probability \"prob\" to be finite, and in that case have uniform distribution between 0 and \"range\"\n",
        "  '''\n",
        "  C = range * np.random.rand(m,n) * np.random.binomial(1, prob, (m,n))\n",
        "  return to_semiring(C)\n",
        "\n",
        "\n",
        "def uniform_noise(m, n, range=0.1):\n",
        "  return range * np.random.rand(m,n)\n",
        "\n",
        "def gaussian_noise(m, n, sigma=0.03):\n",
        "  return np.random.normal(0, sigma, size=(m, n))"
      ],
      "metadata": {
        "id": "8h0c2hieNXHJ"
      },
      "execution_count": 10,
      "outputs": []
    },
    {
      "cell_type": "code",
      "execution_count": 11,
      "metadata": {
        "id": "yNNXxbhGyl8w"
      },
      "outputs": [],
      "source": [
        "def core_algorithm(X, eps = 1e-12):\n",
        "  '''\n",
        "  causal learning algorithm that returns a possible matrix of weights given a set of signals. \n",
        "  eps represents the tolerance wrt equality\n",
        "  d represents the number of signals that could indicate edges that we ask for before drawing that edge\n",
        "  '''\n",
        "  m, n = X.shape\n",
        "  maximums = np.zeros((n,n), dtype=X.dtype)\n",
        "  signals = [[[] for i in range(n)] for j in range(n)]\n",
        "  for i in range(n):\n",
        "    for j in range(n):\n",
        "      if i != j:\n",
        "        for k in range(m):\n",
        "          if np.isposinf(X[k,i]):\n",
        "            w = -np.inf\n",
        "          elif np.isposinf(X[k,j]):\n",
        "            maximums[i,j] = np.inf\n",
        "            break\n",
        "          else:\n",
        "            w = X[k,j] - X[k,i]\n",
        "          if w > maximums[i,j]:\n",
        "            maximums[i,j] = w\n",
        "            if w > maximums[i,j] + eps:\n",
        "              signals[i][j] = []\n",
        "            signals[i][j] = [k2 for k2 in signals[i][j] if X[k2,j]-X[k2,i]>w-eps]\n",
        "          if abs(w - maximums[i,j]) < eps:\n",
        "            signals[i][j].append(k)\n",
        "  counters = np.zeros((n,n), dtype=np.int_)\n",
        "  for i in range(n):\n",
        "    for j in range(n):\n",
        "      if i != j and len(signals[i][j]) > 1 and maximums[i,j] > 0 and not np.isposinf(maximums[i,j]):\n",
        "        for k in signals[i][j]:\n",
        "          flag = False\n",
        "          for l in range(n):\n",
        "            if l != i and l != j and abs(X[k,j]-X[k,l]-maximums[l,j])<eps and abs(X[k,i]-X[k,l]-maximums[l,i])<eps and X[k,j]-X[k,l]>0 and X[k,i]-X[k,l]>0:\n",
        "              flag = True\n",
        "              break\n",
        "          if flag == False:\n",
        "            counters[i,j] += 1\n",
        "  return maximums, counters\n",
        "\n",
        "\n",
        "def reconstruct_W(maximums, counters, threshold):\n",
        "  W_hat = np.where(counters > threshold, maximums, np.inf)\n",
        "  return transitive_closure(W_hat)\n",
        "\n",
        "\n",
        "def algorithm(X, threshold=1, eps=1e-12):\n",
        "  maximums, counters = core_algorithm(X, eps)\n",
        "  return reconstruct_W(maximums, counters, threshold)"
      ]
    },
    {
      "cell_type": "code",
      "source": [
        "def best_threshold(X, maximums, counters, c=30):\n",
        "  min_value = np.inf\n",
        "  m, n = X.shape\n",
        "  for t in range(1, np.max(counters)):\n",
        "    W = reconstruct_W(maximums, counters, t)\n",
        "    temp = c * np.linalg.norm(to_maxtimes(X) - to_maxtimes(minplus_product(X,W)))/m + np.linalg.norm(to_maxtimes(W))/n\n",
        "    print(t, temp)\n",
        "    if temp < min_value:\n",
        "      min_value = temp\n",
        "      argm = t\n",
        "      best_W = W\n",
        "  return best_W, argm"
      ],
      "metadata": {
        "id": "a_iVMnuwlI7d"
      },
      "execution_count": 61,
      "outputs": []
    },
    {
      "cell_type": "code",
      "source": [
        "def print_differences(W_real, W_reconstructed, eps=1e-12):\n",
        "  '''\n",
        "  prints the number of edges in \"W_real\" that are not in \"W_reconstructed\"\n",
        "  '''\n",
        "  counter_missed = 0\n",
        "  counter_greater = 0\n",
        "  counter_lower = 0\n",
        "  counter_added = 0\n",
        "  for i in range(W_real.shape[0]):\n",
        "    for j in range(W_real.shape[1]):\n",
        "      if np.isposinf(W_real[i,j]) and not np.isposinf(W_reconstructed[i,j]):\n",
        "        counter_added += 1\n",
        "      elif not np.isposinf(W_real[i,j]) and np.isposinf(W_reconstructed[i,j]):\n",
        "        counter_missed += 1\n",
        "      elif not np.isposinf(W_real[i,j]) and not np.isposinf(W_reconstructed[i,j]) and W_reconstructed[i,j]-W_real[i,j]>eps:\n",
        "        counter_greater += 1\n",
        "      elif not np.isposinf(W_real[i,j]) and not np.isposinf(W_reconstructed[i,j]) and -W_reconstructed[i,j]+W_real[i,j]>eps:\n",
        "        counter_lower += 1\n",
        "  print(\"Total number of edges:                    {}\".format((W_real != np.inf).sum()))\n",
        "  print(\"Edges missed:                             {}\".format(counter_missed))\n",
        "  print(\"Edges that are not there:                 {}\".format(counter_added))\n",
        "  print(\"Edges found with weight larger than real: {}\".format(counter_greater))\n",
        "  print(\"Edges found with weight lower than real:  {}\".format(counter_lower))  \n"
      ],
      "metadata": {
        "id": "8mobCNFFLBk8"
      },
      "execution_count": 12,
      "outputs": []
    },
    {
      "cell_type": "code",
      "source": [
        "m, n = 500, 100\n",
        "W = simulate_weighted_dag(simulate_dag(n, 500, 'ER'))\n",
        "W_bar = transitive_closure(W)\n",
        "X = signals_from_spectra(W_bar, uniform_random_spectra(m,n), True) + gaussian_noise(m,n)\n",
        "W_bar"
      ],
      "metadata": {
        "colab": {
          "base_uri": "https://localhost:8080/"
        },
        "id": "g7elhpFUyU8Q",
        "outputId": "4213c736-d2e2-4e3f-daca-b0ba381dae78"
      },
      "execution_count": 17,
      "outputs": [
        {
          "output_type": "execute_result",
          "data": {
            "text/plain": [
              "array([[       inf,        inf,        inf, ..., 2.92239739, 2.31171744,\n",
              "        1.90579361],\n",
              "       [       inf,        inf,        inf, ..., 1.6110091 , 1.59616421,\n",
              "        0.95383763],\n",
              "       [       inf,        inf,        inf, ..., 2.39268659, 2.20374858,\n",
              "        1.71260345],\n",
              "       ...,\n",
              "       [       inf,        inf,        inf, ...,        inf,        inf,\n",
              "        0.48759049],\n",
              "       [       inf,        inf,        inf, ...,        inf,        inf,\n",
              "               inf],\n",
              "       [       inf,        inf,        inf, ...,        inf,        inf,\n",
              "               inf]])"
            ]
          },
          "metadata": {},
          "execution_count": 17
        }
      ]
    },
    {
      "cell_type": "code",
      "source": [
        "maximums, counters = core_algorithm(X, eps=0.2)"
      ],
      "metadata": {
        "id": "AHqDVHGlzZcM"
      },
      "execution_count": 18,
      "outputs": []
    },
    {
      "cell_type": "code",
      "source": [
        "W_reconstructed = reconstruct_W(maximums, counters, 10)\n",
        "print(is_dag(from_semiring(W_reconstructed)))\n",
        "W_reconstructed"
      ],
      "metadata": {
        "colab": {
          "base_uri": "https://localhost:8080/"
        },
        "id": "EiXe1JoDBTwP",
        "outputId": "f488a881-30cc-42b2-cfa5-821a2b0bc6e3"
      },
      "execution_count": 59,
      "outputs": [
        {
          "output_type": "stream",
          "name": "stdout",
          "text": [
            "True\n"
          ]
        },
        {
          "output_type": "execute_result",
          "data": {
            "text/plain": [
              "array([[       inf,        inf,        inf, ..., 3.10747924, 2.48956872,\n",
              "        2.06142368],\n",
              "       [       inf,        inf,        inf, ..., 1.69582106, 1.70949804,\n",
              "        1.09048056],\n",
              "       [       inf,        inf,        inf, ..., 2.55533106, 2.37665665,\n",
              "        1.9446373 ],\n",
              "       ...,\n",
              "       [       inf,        inf,        inf, ...,        inf,        inf,\n",
              "        0.57404919],\n",
              "       [       inf,        inf,        inf, ...,        inf,        inf,\n",
              "               inf],\n",
              "       [       inf,        inf,        inf, ...,        inf,        inf,\n",
              "               inf]])"
            ]
          },
          "metadata": {},
          "execution_count": 59
        }
      ]
    },
    {
      "cell_type": "code",
      "source": [
        "best_threshold(X, maximums, counters)"
      ],
      "metadata": {
        "id": "4EyQfmwLl2Ev",
        "outputId": "d564460b-1c39-402b-ae0c-d8087e6f89fc",
        "colab": {
          "base_uri": "https://localhost:8080/"
        }
      },
      "execution_count": 62,
      "outputs": [
        {
          "output_type": "stream",
          "name": "stdout",
          "text": [
            "1 1.8501020238978332\n",
            "2 1.8493727068869057\n",
            "3 1.8493643770431447\n",
            "4 1.8493032523994788\n",
            "5 1.8491202054689517\n",
            "6 1.8490637009999558\n",
            "7 1.8489739920697381\n",
            "8 1.8492875494505654\n",
            "9 1.849469301591438\n",
            "10 1.8495800431454654\n",
            "11 1.8499138828943558\n",
            "12 1.8506118093407062\n",
            "13 1.8513596489078665\n",
            "14 1.8526738834045264\n",
            "15 1.8566898743793452\n",
            "16 1.8596642027466448\n",
            "17 1.8678898079165462\n",
            "18 1.8792620403273437\n",
            "19 1.8979357507465127\n",
            "20 1.9248424353145455\n",
            "21 1.9544851562674157\n",
            "22 1.9748998863022458\n",
            "23 2.0054953338732986\n",
            "24 2.066375554805778\n",
            "25 2.1099359141510936\n",
            "26 2.1614573812551696\n",
            "27 2.26251046655501\n",
            "28 2.351604423292936\n",
            "29 2.476291449410839\n",
            "30 2.584848748390798\n",
            "31 2.7453473107016766\n",
            "32 2.865950750310428\n",
            "33 2.96957870124353\n",
            "34 3.016254349697709\n",
            "35 3.098155453240469\n",
            "36 3.1513480382293007\n",
            "37 3.2224325423940563\n",
            "38 3.299332775882347\n",
            "39 3.316340061878997\n",
            "40 3.358487703558706\n",
            "41 3.39092449518959\n",
            "42 3.41282538502691\n",
            "43 3.435129015190499\n",
            "44 3.4586874075366576\n",
            "45 3.470161008740821\n",
            "46 3.4762943130703152\n",
            "47 3.48392032681606\n",
            "48 3.4915300400058102\n",
            "49 3.4939007692878516\n",
            "50 3.4980664348940387\n",
            "51 3.4980664348940387\n",
            "52 3.5030792334683727\n",
            "53 3.504953585711878\n",
            "54 3.507241367595615\n",
            "55 3.507241367595615\n",
            "56 3.507241367595615\n"
          ]
        },
        {
          "output_type": "execute_result",
          "data": {
            "text/plain": [
              "(array([[       inf,        inf,        inf, ..., 3.10747924, 2.4611266 ,\n",
              "         2.06142368],\n",
              "        [       inf,        inf,        inf, ..., 1.69582106, 1.70949804,\n",
              "         1.09048056],\n",
              "        [       inf,        inf,        inf, ..., 2.55533106, 2.37665665,\n",
              "         1.84926582],\n",
              "        ...,\n",
              "        [       inf,        inf,        inf, ...,        inf,        inf,\n",
              "         0.57404919],\n",
              "        [       inf,        inf,        inf, ...,        inf,        inf,\n",
              "                inf],\n",
              "        [       inf,        inf,        inf, ...,        inf,        inf,\n",
              "                inf]]), 7)"
            ]
          },
          "metadata": {},
          "execution_count": 62
        }
      ]
    },
    {
      "cell_type": "code",
      "source": [
        "print_differences(W_bar, W_reconstructed, eps=0.2)"
      ],
      "metadata": {
        "colab": {
          "base_uri": "https://localhost:8080/"
        },
        "id": "olBGmNYyQOM1",
        "outputId": "9a643188-7299-4ecf-ad7c-06c10f47c905"
      },
      "execution_count": 60,
      "outputs": [
        {
          "output_type": "stream",
          "name": "stdout",
          "text": [
            "Total number of edges:                    2845\n",
            "Edges missed:                             5\n",
            "Edges that are not there:                 0\n",
            "Edges found with weight larger than real: 387\n",
            "Edges found with weight lower than real:  0\n"
          ]
        }
      ]
    }
  ]
}