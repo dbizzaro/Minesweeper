{
  "cells": [
    {
      "cell_type": "markdown",
      "metadata": {
        "id": "view-in-github",
        "colab_type": "text"
      },
      "source": [
        "<a href=\"https://colab.research.google.com/github/dbizzaro/Minesweeper/blob/main/Minesweeper_with_SATsolver.ipynb\" target=\"_parent\"><img src=\"https://colab.research.google.com/assets/colab-badge.svg\" alt=\"Open In Colab\"/></a>"
      ]
    },
    {
      "cell_type": "code",
      "source": [
        "!pip install python-sat[pblib,aiger]"
      ],
      "metadata": {
        "colab": {
          "base_uri": "https://localhost:8080/"
        },
        "id": "bnA8YM5E1Wjc",
        "outputId": "2c880698-3beb-4ca5-99f5-d0976fbb5464"
      },
      "execution_count": null,
      "outputs": [
        {
          "output_type": "stream",
          "name": "stdout",
          "text": [
            "Looking in indexes: https://pypi.org/simple, https://us-python.pkg.dev/colab-wheels/public/simple/\n",
            "Requirement already satisfied: python-sat[aiger,pblib] in /usr/local/lib/python3.7/dist-packages (0.1.7.dev18)\n",
            "Requirement already satisfied: six in /usr/local/lib/python3.7/dist-packages (from python-sat[aiger,pblib]) (1.15.0)\n",
            "Requirement already satisfied: pypblib>=0.0.3 in /usr/local/lib/python3.7/dist-packages (from python-sat[aiger,pblib]) (0.0.4)\n",
            "Requirement already satisfied: py-aiger-cnf>=2.0.0 in /usr/local/lib/python3.7/dist-packages (from python-sat[aiger,pblib]) (5.0.4)\n",
            "Requirement already satisfied: funcy<2.0,>=1.12 in /usr/local/lib/python3.7/dist-packages (from py-aiger-cnf>=2.0.0->python-sat[aiger,pblib]) (1.17)\n",
            "Requirement already satisfied: bidict<0.22.0,>=0.21.0 in /usr/local/lib/python3.7/dist-packages (from py-aiger-cnf>=2.0.0->python-sat[aiger,pblib]) (0.21.4)\n",
            "Requirement already satisfied: py-aiger<7.0.0,>=6.0.0 in /usr/local/lib/python3.7/dist-packages (from py-aiger-cnf>=2.0.0->python-sat[aiger,pblib]) (6.1.23)\n",
            "Requirement already satisfied: attrs<22,>=21 in /usr/local/lib/python3.7/dist-packages (from py-aiger<7.0.0,>=6.0.0->py-aiger-cnf>=2.0.0->python-sat[aiger,pblib]) (21.4.0)\n",
            "Requirement already satisfied: sortedcontainers<3.0.0,>=2.3.0 in /usr/local/lib/python3.7/dist-packages (from py-aiger<7.0.0,>=6.0.0->py-aiger-cnf>=2.0.0->python-sat[aiger,pblib]) (2.4.0)\n",
            "Requirement already satisfied: parsimonious<0.9.0,>=0.8.1 in /usr/local/lib/python3.7/dist-packages (from py-aiger<7.0.0,>=6.0.0->py-aiger-cnf>=2.0.0->python-sat[aiger,pblib]) (0.8.1)\n",
            "Requirement already satisfied: pyrsistent<0.19.0,>=0.18.0 in /usr/local/lib/python3.7/dist-packages (from py-aiger<7.0.0,>=6.0.0->py-aiger-cnf>=2.0.0->python-sat[aiger,pblib]) (0.18.1)\n",
            "Requirement already satisfied: toposort<2.0,>=1.5 in /usr/local/lib/python3.7/dist-packages (from py-aiger<7.0.0,>=6.0.0->py-aiger-cnf>=2.0.0->python-sat[aiger,pblib]) (1.7)\n"
          ]
        }
      ]
    },
    {
      "cell_type": "code",
      "execution_count": null,
      "metadata": {
        "id": "o-Oki63Yv2VM"
      },
      "outputs": [],
      "source": [
        "from pysat.card import CardEnc\n",
        "from pysat.solvers import Minisat22\n",
        "import numpy as np\n",
        "import pandas as pd\n",
        "from itertools import combinations\n",
        "from scipy.special import binom\n",
        "\n",
        "pd.set_option('display.max_columns', None)\n",
        "pd.set_option('display.max_rows', None)"
      ]
    },
    {
      "cell_type": "code",
      "source": [
        "class Board:\n",
        "  \n",
        "  def __init__(self, n_rows, n_cols, n_mines, seed=None):\n",
        "    self.n_rows = n_rows\n",
        "    self.n_cols = n_cols\n",
        "    self.n_mines = n_mines\n",
        "    self.board = np.full((n_rows, n_cols), -1, dtype='short')\n",
        "    self.__mines = set()\n",
        "    np.random.seed(seed)\n",
        "    placed = 0\n",
        "    while (placed < n_mines):\n",
        "      row = np.random.randint(0,n_rows)\n",
        "      col = np.random.randint(0,n_cols)\n",
        "      if ((row,col) not in self.__mines):\n",
        "        self.__mines.add((row,col))\n",
        "        placed += 1\n",
        "\n",
        "  def adjacent_cells(self, position, only_among_still_covered=True):\n",
        "    adj = []\n",
        "    for x in range(position[0]-1, position[0]+2):\n",
        "        for y in range(position[1]-1, position[1]+2):\n",
        "            if (x>=0 and y>=0 and x<self.n_rows and y<self.n_cols and (x, y) != position):\n",
        "              if ((not only_among_still_covered) or self.board[x,y]<0):\n",
        "                adj.append((x,y))\n",
        "    return adj\n",
        "\n",
        "  def n_adjacent_mines(self, position):\n",
        "    adj = self.adjacent_cells(position)\n",
        "    n = 0\n",
        "    for pos in adj:\n",
        "      if (pos in self.__mines):\n",
        "        n += 1\n",
        "    return n\n",
        "\n",
        "  def randomly_fill_in(self, n_observed, seed=None):\n",
        "    observed = 0\n",
        "    while (observed < n_observed):\n",
        "      row = np.random.randint(0,self.n_rows)\n",
        "      col = np.random.randint(0,self.n_cols)\n",
        "      if (self.board[row,col] == -1 and ((row,col) not in self.__mines)):\n",
        "        self.board[row,col] = self.n_adjacent_mines((row, col))\n",
        "        observed += 1\n",
        "  \n",
        "  def show(self, display_mines=False):\n",
        "    df = pd.DataFrame(self.board, dtype='object')\n",
        "    df = df.replace(-1, '').replace(-2, '🚩')\n",
        "    if display_mines:\n",
        "      for pos in self.__mines:\n",
        "        df.iloc[pos] = '💣'\n",
        "    display(df)\n",
        "\n",
        "  def still_covered_cells(self, separate_cells_with_an_uncovered_neighbor=False):\n",
        "    covered_cells_with_an_uncovered_neighbor = []\n",
        "    covered_cells_without_an_uncovered_neighbor = []\n",
        "    covered_cells = []\n",
        "    for row in range(self.n_rows):\n",
        "      for col in range(self.n_cols):\n",
        "        if (self.board[row,col] < 0):\n",
        "          if not separate_cells_with_an_uncovered_neighbor:\n",
        "            covered_cells.append((row,col))\n",
        "          elif len(self.adjacent_cells((row, col), True))!=len(self.adjacent_cells((row, col), False)):\n",
        "            covered_cells_with_an_uncovered_neighbor.append((row, col))\n",
        "          else:\n",
        "            covered_cells_without_an_uncovered_neighbor.append((row, col))\n",
        "    if not separate_cells_with_an_uncovered_neighbor:\n",
        "      return covered_cells\n",
        "    return covered_cells_with_an_uncovered_neighbor, covered_cells_without_an_uncovered_neighbor\n",
        "\n",
        "  def reveal_position(self, position, show_board=False):\n",
        "    n_adj_mines = self.n_adjacent_mines(position)\n",
        "    if (position in self.__mines):\n",
        "      print(\"BOOM! Exploded mine in position {}.\". format(position))\n",
        "      self.show(True)\n",
        "      return -2\n",
        "    if (self.board[position] < 0):\n",
        "      self.board[position] = n_adj_mines\n",
        "      print(\"Revealed position {}, which has {} neighboring mines.\".format(position, n_adj_mines))\n",
        "      if show_board:\n",
        "        self.show()\n",
        "      return n_adj_mines\n",
        "    print('Invalid position')\n",
        "    return -3\n"
      ],
      "metadata": {
        "id": "GNEnzl9hoz3q"
      },
      "execution_count": null,
      "outputs": []
    },
    {
      "cell_type": "code",
      "source": [
        "def variable_mine_at(n_cols, position):\n",
        "    return 1 + position[0] * n_cols + position[1]"
      ],
      "metadata": {
        "id": "mXBKRi_ggE80"
      },
      "execution_count": null,
      "outputs": []
    },
    {
      "cell_type": "code",
      "source": [
        "def proposition_exactly_k_neighboring_mines(board, position, k):\n",
        "  adj = board.adjacent_cells(position)\n",
        "  n = len(adj)\n",
        "  clauses=[]\n",
        "  for I in combinations(adj, n-k+1):  # at least k\n",
        "    clauses.append([variable_mine_at(board.n_cols, i) for i in I])\n",
        "  for I in combinations(adj, k+1):  # at most k\n",
        "    clauses.append([-variable_mine_at(board.n_cols, i) for i in I])\n",
        "  #print(clauses)\n",
        "  return clauses"
      ],
      "metadata": {
        "id": "bLymSLc0gQGK"
      },
      "execution_count": null,
      "outputs": []
    },
    {
      "cell_type": "markdown",
      "source": [
        "maximum number clauses from single cardinality constrain: $\\binom{8}{5}+ \\binom{8}{3}=112$"
      ],
      "metadata": {
        "id": "wDSshWl6S2if"
      }
    },
    {
      "cell_type": "code",
      "source": [
        "def proposition_total_number_of_mines(board):\n",
        "  available_positions = board.still_covered_cells()\n",
        "  variables = [variable_mine_at(board.n_cols, pos) for pos in available_positions]\n",
        "  n = board.n_rows * board.n_cols\n",
        "  k = board.n_mines\n",
        "  cnf = CardEnc.equals(variables, k, top_id=n)\n",
        "  #print(cnf.clauses)\n",
        "  return cnf.clauses"
      ],
      "metadata": {
        "id": "IxsWyyzCXdNg"
      },
      "execution_count": null,
      "outputs": []
    },
    {
      "cell_type": "code",
      "source": [
        "def generate_propositions(board, satsolver):\n",
        "  for row in range(board.n_rows):\n",
        "    for col in range(board.n_cols):\n",
        "      k = board.board[row,col]\n",
        "      if k >=0:\n",
        "        satsolver.append_formula(proposition_exactly_k_neighboring_mines(board, (row,col), k))\n",
        "        satsolver.add_clause([-variable_mine_at(board.n_cols, (row,col))])\n",
        "  #print(satsolver.nof_vars())\n",
        "  #print(satsolver.nof_clauses())\n",
        "  satsolver.append_formula(proposition_total_number_of_mines(board))\n",
        "  #print(satsolver.nof_vars())\n",
        "  #print(satsolver.nof_clauses())"
      ],
      "metadata": {
        "id": "0z5vZ2Vtg_pX"
      },
      "execution_count": null,
      "outputs": []
    },
    {
      "cell_type": "code",
      "source": [
        "def check_safe_position_at(board, position, satsolver): # if UNSAT having a mine in that position (i.e. if VALID not having a mine in that position, i.e. SAFE position)\n",
        "  return not satsolver.solve(assumptions=[variable_mine_at(board.n_cols, position)]) \n",
        "\n",
        "def check_mine_at(board, position, satsolver): # if UNSAT not having a mine in that position (i.e. if VALID having a mine in that position)\n",
        "  return not satsolver.solve(assumptions=[-variable_mine_at(board.n_cols, position)])\n",
        "\n",
        "def count_models(satsolver, assumptions):\n",
        "  return sum(1 for _ in satsolver.enum_models(assumptions=assumptions))\n",
        "  #lista=list(satsolver.enum_models(assumptions=assumptions))\n",
        "  #print(lista)\n",
        "  #return len(lista)"
      ],
      "metadata": {
        "id": "ZCbTCo8O9Z2q"
      },
      "execution_count": null,
      "outputs": []
    },
    {
      "cell_type": "code",
      "source": [
        "def most_probable_safe_position(board, satsolver):\n",
        "\n",
        "  top_id = satsolver.nof_vars()\n",
        "\n",
        "  def assumption_exactly_k_mines_among_free_cells(k):\n",
        "    assumption = [variable_mine_at(board.n_cols, free_cells[i]) for i in range(k)]\n",
        "    assumption += [-variable_mine_at(board.n_cols, free_cells[i+k]) for i in range(n_free_cells-k)]\n",
        "    assumption += [-i for i in range(top_id+1, satsolver.nof_vars()+1)] + [satsolver.nof_vars()+1]\n",
        "    #print(satsolver.nof_vars())\n",
        "    return assumption\n",
        "\n",
        "  #def assumption_exactly_k_mines_among_free_cells2():\n",
        "    #assumption = [variable_mine_at(board.n_cols, free_cells[i]) for i in range(k)]\n",
        "    #assumption += [-variable_mine_at(board.n_cols, free_cells[i+k]) for i in range(n_free_cells-k)]\n",
        "    #assumption = [-i for i in range(top_id+1, satsolver.nof_vars()+1)] + [satsolver.nof_vars()+1]\n",
        "    #print(satsolver.nof_vars())\n",
        "    #return assumption\n",
        "\n",
        "  bounded_cells, free_cells = board.still_covered_cells(separate_cells_with_an_uncovered_neighbor=True)\n",
        "  n_bounded_cells = len(bounded_cells)\n",
        "  n_free_cells = len(free_cells)\n",
        "  counter_n_models = 0\n",
        "  for n_mines_in_free_cells in range(max(0,board.n_mines-n_bounded_cells), min(n_free_cells, board.n_mines)):\n",
        "    assumption = assumption_exactly_k_mines_among_free_cells(n_mines_in_free_cells)\n",
        "    counter_n_models += count_models(satsolver, assumption) * binom(n_free_cells-1, n_mines_in_free_cells)\n",
        "    #print(\"binomial\", binom(n_free_cells-1, n_mines_in_free_cells), n_free_cells-1, n_mines_in_free_cells, counter_n_models)\n",
        "  #print(\"counter_first\", counter_n_models)\n",
        "  #print(\"classical\", count_models(satsolver, assumption_exactly_k_mines_among_free_cells2()+[-variable_mine_at(board.n_cols, free_cells[0])]))\n",
        "  if n_free_cells > 0: \n",
        "    maximum = counter_n_models\n",
        "    best_option = free_cells[0]\n",
        "    print(\"maximum_first\", maximum)\n",
        "  else:\n",
        "    maximum = 0 \n",
        "    best_option = None\n",
        "  for position in bounded_cells:\n",
        "    counter_n_models = 0\n",
        "    for n_mines_in_free_cells in range(max(0,board.n_mines-n_bounded_cells+1), min(n_free_cells, board.n_mines)+1):\n",
        "      assumption = assumption_exactly_k_mines_among_free_cells(n_mines_in_free_cells) + [-variable_mine_at(board.n_cols, position)]\n",
        "      counter_n_models += count_models(satsolver, assumption) * binom(n_free_cells, n_mines_in_free_cells)\n",
        "      #print(\"models\", count_models(satsolver, assumption))\n",
        "      #print(\"binomial\", binom(n_free_cells, n_mines_in_free_cells), n_free_cells, n_mines_in_free_cells, counter_n_models)\n",
        "    #print(\"counter_final\", counter_n_models)\n",
        "    #print(\"classical\", count_models(satsolver, assumption_exactly_k_mines_among_free_cells2()+[-variable_mine_at(board.n_cols, position)]))\n",
        "    if counter_n_models > maximum:\n",
        "      maximum = counter_n_models\n",
        "      print(\"maximum\", maximum)\n",
        "      best_option = position\n",
        "  satsolver.append_formula([[-i] for i in range(top_id+1, satsolver.nof_vars()+1)])\n",
        "  return best_option\n"
      ],
      "metadata": {
        "id": "6ll0MMZ4n7jB"
      },
      "execution_count": null,
      "outputs": []
    },
    {
      "cell_type": "code",
      "source": [
        "def play_game(board, steps_after_which_showing_board=10):\n",
        "  counter_for_showing_board = 0\n",
        "  n_mines_found = 0\n",
        "  solver = Minisat22()\n",
        "  generate_propositions(board, solver)\n",
        "  game_over_flag = False\n",
        "  while not game_over_flag:\n",
        "    safe_positions_found = 0\n",
        "    bounded_cells, free_cells = board.still_covered_cells(separate_cells_with_an_uncovered_neighbor=True)\n",
        "    if len(free_cells) > 0:\n",
        "      cells_to_try = bounded_cells + [free_cells[0]]\n",
        "    else:\n",
        "      cells_to_try = bounded_cells\n",
        "    for position in cells_to_try:\n",
        "      if (board.board[position] == -1 and check_mine_at(board, position, solver)): \n",
        "        solver.add_clause([variable_mine_at(board.n_cols, position)]) # add clause saying we've found a mine\n",
        "        board.board[position] = -2\n",
        "        n_mines_found += 1\n",
        "        print(\"Found mine in position {}\".format(position))\n",
        "      if (board.board[position] == -1 and check_safe_position_at(board, position, solver)):  # if position safe, then ...\n",
        "        n_adj_mines = board.reveal_position(position, True) # ... reveal position ...\n",
        "        if n_adj_mines < 0:\n",
        "          game_over_flag = True\n",
        "          print(\"Game Over: the program has lost\")\n",
        "          break\n",
        "        solver.append_formula(proposition_exactly_k_neighboring_mines(board, position, n_adj_mines))\n",
        "        solver.add_clause([-variable_mine_at(board.n_cols, position)])\n",
        "        safe_positions_found += 1\n",
        "    if safe_positions_found == 0 and not game_over_flag and n_mines_found == board.n_mines:\n",
        "      print(\"The program has won!\")\n",
        "      board.show(True)\n",
        "      break\n",
        "    elif safe_positions_found == 0 and not game_over_flag:\n",
        "      position_to_try = most_probable_safe_position(board, solver)\n",
        "      n_adj_mines = board.reveal_position(position_to_try, True) # ... reveal position ...\n",
        "      if n_adj_mines < 0:\n",
        "        game_over_flag = True\n",
        "        print(\"Game Over: the program has lost\")\n",
        "        break\n",
        "      solver.append_formula(proposition_exactly_k_neighboring_mines(board, position_to_try, n_adj_mines))\n",
        "      solver.add_clause([-variable_mine_at(board.n_cols, position_to_try)])\n",
        "  solver.delete()\n",
        "  return not game_over_flag"
      ],
      "metadata": {
        "id": "9MfPB9OdEeb6"
      },
      "execution_count": null,
      "outputs": []
    },
    {
      "cell_type": "code",
      "source": [
        "def statistics(n_rows, n_cols, n_mines, sample_size):\n",
        "  for i in range(sample_size):\n",
        "    new_board = Board(n_rows, n_cols, n_mines)\n",
        "    play_game(new_board)"
      ],
      "metadata": {
        "id": "b0SJi_T-eXjx"
      },
      "execution_count": null,
      "outputs": []
    },
    {
      "cell_type": "code",
      "source": [
        "#example = Board(20, 30, 120)\n",
        "#example.randomly_fill_in(0)\n",
        "#example.show(True)"
      ],
      "metadata": {
        "id": "u8xZ79d-8bEW"
      },
      "execution_count": null,
      "outputs": []
    },
    {
      "cell_type": "code",
      "source": [
        "#play_game(example)"
      ],
      "metadata": {
        "id": "rE3aLXeQFhnx"
      },
      "execution_count": null,
      "outputs": []
    },
    {
      "cell_type": "markdown",
      "source": [
        "TO DO:\n",
        "\n",
        "\n",
        "*   verbosity\n",
        "*   comments\n",
        "*   statistics\n",
        "\n"
      ],
      "metadata": {
        "id": "fHPpSItjgHVI"
      }
    }
  ],
  "metadata": {
    "kernelspec": {
      "display_name": "Python 3",
      "name": "python3"
    },
    "language_info": {
      "name": "python"
    },
    "colab": {
      "name": "Minesweeper with SATsolver.ipynb",
      "provenance": [],
      "collapsed_sections": [],
      "include_colab_link": true
    },
    "gpuClass": "standard"
  },
  "nbformat": 4,
  "nbformat_minor": 0
}