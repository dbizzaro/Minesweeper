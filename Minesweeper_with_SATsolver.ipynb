{
  "cells": [
    {
      "cell_type": "markdown",
      "metadata": {
        "id": "view-in-github",
        "colab_type": "text"
      },
      "source": [
        "<a href=\"https://colab.research.google.com/github/dbizzaro/Minesweeper/blob/main/Minesweeper_with_SATsolver.ipynb\" target=\"_parent\"><img src=\"https://colab.research.google.com/assets/colab-badge.svg\" alt=\"Open In Colab\"/></a>"
      ]
    },
    {
      "cell_type": "markdown",
      "source": [
        "# Minesweeper\n",
        "\n",
        "A project by **Davide Bizzaro**, mat. **203851**, for the course *Knowledge and data mining*, at Unipd 2021/2022."
      ],
      "metadata": {
        "id": "OBP9xhTi15oW"
      }
    },
    {
      "cell_type": "code",
      "source": [
        "!pip install python-sat[pblib,aiger]"
      ],
      "metadata": {
        "id": "bnA8YM5E1Wjc"
      },
      "execution_count": null,
      "outputs": []
    },
    {
      "cell_type": "code",
      "execution_count": 2,
      "metadata": {
        "id": "o-Oki63Yv2VM"
      },
      "outputs": [],
      "source": [
        "from pysat.card import CardEnc\n",
        "from pysat.solvers import Minisat22\n",
        "import numpy as np\n",
        "import pandas as pd\n",
        "from itertools import combinations\n",
        "from scipy.special import binom\n",
        "\n",
        "pd.set_option('display.max_columns', None)\n",
        "pd.set_option('display.max_rows', None)"
      ]
    },
    {
      "cell_type": "markdown",
      "source": [
        "### Class for game handling\n",
        "\n",
        "The following class comprises all that concerns the game but not the solver.\n",
        "\n",
        "If you don't know the game, see [en.wikipedia.org/wiki/Minesweeper_(video_game)](en.wikipedia.org/wiki/Minesweeper_(video_game))."
      ],
      "metadata": {
        "id": "XIY9i2pk1gbl"
      }
    },
    {
      "cell_type": "code",
      "source": [
        "class Board:\n",
        "  '''\n",
        "  Objects of this class summarize game board (e.g. where the mines are placed) and game status (e.g. which cells have been revealed, and what number is in them).\n",
        "  \n",
        "  Attributes:\n",
        "  - n_rows: number of rows\n",
        "  - n_cols: number of columns\n",
        "  - n_mines: number of mines\n",
        "  - board: array (of shape  n_rows x n_cols) filled with integers:\n",
        "      - -1 represents general covered cells\n",
        "      - -2 represent covered cells where the solver thinks there are mines\n",
        "      - non-negative numbers represents revealed cells, where the number is the number of mines in the adjacent cells\n",
        "  - mines: set of positions -of the form (row,col)- where the mines lie. Its kept private (so it's sure the solver has no direct access to it) and initialized randomly\n",
        "  '''\n",
        "  \n",
        "  def __init__(self, n_rows, n_cols, n_mines, seed=None):\n",
        "    self.n_rows = n_rows\n",
        "    self.n_cols = n_cols\n",
        "    self.n_mines = n_mines\n",
        "    self.board = np.full((n_rows, n_cols), -1, dtype='short')\n",
        "    self.__mines = set()\n",
        "    np.random.seed(seed)\n",
        "    placed = 0\n",
        "    while (placed < n_mines):\n",
        "      row = np.random.randint(0,n_rows)\n",
        "      col = np.random.randint(0,n_cols)\n",
        "      if ((row,col) not in self.__mines):\n",
        "        self.__mines.add((row,col))\n",
        "        placed += 1\n",
        "\n",
        "  def adjacent_cells(self, position, only_among_still_covered=True):\n",
        "    '''\n",
        "    returns the list of the covered cells adjacent to that given as argument.\n",
        "    If only_among_still_covered is set to False, then it returns the list of all the adjacent cells, not just the covered ones\n",
        "    '''\n",
        "    adj = []\n",
        "    for x in range(position[0]-1, position[0]+2):\n",
        "        for y in range(position[1]-1, position[1]+2):\n",
        "            if (x>=0 and y>=0 and x<self.n_rows and y<self.n_cols and (x, y) != position):\n",
        "              if ((not only_among_still_covered) or self.board[x,y]<0):\n",
        "                adj.append((x,y))\n",
        "    return adj\n",
        "\n",
        "  def n_adjacent_mines(self, position):\n",
        "    '''\n",
        "    returns the number of mines in cells adjacent to the given position\n",
        "    '''\n",
        "    adj = self.adjacent_cells(position)\n",
        "    n = 0\n",
        "    for pos in adj:\n",
        "      if (pos in self.__mines):\n",
        "        n += 1\n",
        "    return n\n",
        "\n",
        "  def n_observed_cells(self):\n",
        "    '''\n",
        "    returns the number of visited cells (thus containing the non negative number of neighboring mines)\n",
        "    '''\n",
        "    return (self.board >= 0).sum()\n",
        "\n",
        "  def check_victory(self):\n",
        "    '''\n",
        "    returns true if you have won the game (i.e. observed all the cells without mines)\n",
        "    '''\n",
        "    if (self.n_observed_cells() == self.n_rows * self.n_cols - self.n_mines):\n",
        "      return True\n",
        "    return False\n",
        "\n",
        "  def randomly_fill_in(self, n_observed, seed=None):\n",
        "    '''\n",
        "    fills in n_observed cells (without mines), at random position, with the correct number. \n",
        "    it should be used just once per board, when you do not want to start with an all-covered board.\n",
        "    '''\n",
        "    np.random.seed(seed)\n",
        "    observed = 0\n",
        "    assert 0 <= n_observed <= self.n_rows * self.n_cols - self.n_mines, \"you are requiring to fill in a wrong number of cells\"\n",
        "    while (observed < n_observed):\n",
        "      row = np.random.randint(0,self.n_rows)\n",
        "      col = np.random.randint(0,self.n_cols)\n",
        "      if (self.board[row,col] < 0 and ((row,col) not in self.__mines)):\n",
        "        self.board[row,col] = self.n_adjacent_mines((row, col))\n",
        "        observed += 1\n",
        "  \n",
        "  def show(self, display_mines=False, explosion_at=None):\n",
        "    '''\n",
        "    method for printing the board, with or without the indication of the mines\n",
        "    it is also possible to indicate on the board the position of an exploded mine that caused a game over\n",
        "    '''\n",
        "    df = pd.DataFrame(self.board, dtype='object')\n",
        "    df = df.replace(-1, '').replace(-2, '🚩')\n",
        "    if display_mines:\n",
        "      for pos in self.__mines:\n",
        "        df.iloc[pos] = '💣'\n",
        "      if (explosion_at in self.__mines):\n",
        "        df.iloc[explosion_at] = '💥'\n",
        "    df.style\n",
        "    display(df)\n",
        "\n",
        "  def still_covered_cells(self, separate_cells_with_an_uncovered_neighbor=False):\n",
        "    '''\n",
        "    returns the list of all the covered cells (those without numbers appearing on the displayed board)\n",
        "    if separate_cells_with_an_uncovered_neighbor is set to true, then it returns instead two lists:\n",
        "      - the list of covered cells adjacent to at least one revealed cell\n",
        "      - the list of all the other covered cells (those not adjacent to any revealed cell)\n",
        "    ''' # I could have written two separate methods, but it is not important\n",
        "    covered_cells_with_an_uncovered_neighbor = []\n",
        "    covered_cells_without_an_uncovered_neighbor = []\n",
        "    covered_cells = []\n",
        "    for row in range(self.n_rows):\n",
        "      for col in range(self.n_cols):\n",
        "        if (self.board[row,col] < 0):\n",
        "          if not separate_cells_with_an_uncovered_neighbor:\n",
        "            covered_cells.append((row,col))\n",
        "          elif len(self.adjacent_cells((row, col), True))!=len(self.adjacent_cells((row, col), False)):\n",
        "            covered_cells_with_an_uncovered_neighbor.append((row, col))\n",
        "          else:\n",
        "            covered_cells_without_an_uncovered_neighbor.append((row, col))\n",
        "    if not separate_cells_with_an_uncovered_neighbor:\n",
        "      return covered_cells\n",
        "    return covered_cells_with_an_uncovered_neighbor, covered_cells_without_an_uncovered_neighbor\n",
        "\n",
        "  def reveal_position(self, position, verbosity=2):\n",
        "    '''\n",
        "    this method represent the response of the game at the choice of a cell to reveal.\n",
        "    if the cell contains a mine, then it returns -2, indicating game over\n",
        "    if the cell is sound and does not contain a mine, then it returns the non-negative number of mines in adjacent cells, which is also set to be shown on the board from now on\n",
        "    - use verbosity = 0 when you don't want any output at all\n",
        "    - use verbosity = 1 when you just want to output what is going on, without displaying the board if it is not game over\n",
        "    - use verbosity > 1 when you want also to display the board\n",
        "    '''\n",
        "    n_adj_mines = self.n_adjacent_mines(position)\n",
        "    if (position in self.__mines):\n",
        "      if verbosity > 0:\n",
        "        print(\"BOOM! Exploded mine in position {}.\". format(position))\n",
        "        self.show(True, position)\n",
        "      return -2\n",
        "    if (self.board[position] < 0):\n",
        "      self.board[position] = n_adj_mines\n",
        "      if verbosity > 0:\n",
        "        print(\"Revealed position {}, which has {} neighboring mines.\".format(position, n_adj_mines))\n",
        "        if verbosity > 1:\n",
        "          self.show()\n",
        "      return n_adj_mines\n",
        "    print('Invalid position')\n",
        "    return -3\n"
      ],
      "metadata": {
        "id": "GNEnzl9hoz3q"
      },
      "execution_count": 3,
      "outputs": []
    },
    {
      "cell_type": "markdown",
      "source": [
        "maximum number clauses from single cardinality constrain: $\\binom{8}{5}+ \\binom{8}{3}=112$"
      ],
      "metadata": {
        "id": "wDSshWl6S2if"
      }
    },
    {
      "cell_type": "markdown",
      "source": [
        "### Functions for game solving\n",
        "\n",
        "We use MiniSat 2.2 in order to produce an algorithm for solving the game.\n",
        "\n",
        "We consider propositional variables $X_{ij}$ saying \"in position $(i,j)$ there is a mine\". As we are using DIMACS format for CNF clauses, they are represented by a natural number from 1 to the total number of cells. \n",
        "\n",
        "The axioms we need to provide are: \n",
        "\n",
        "1.   the variables corresponding to the cells with a visible number are false;\n",
        "2.   for every cell with a visible number k, exactly k of the variables corresponding to the adjacent cells are true;\n",
        "3.   exactly n of the variables are true, where n is the total number of mines specified by the game.\n",
        "\n",
        "We encoded the cardinality constrains of point 2 in a very simple way: for every cell with number $k$ and set of covered adjacent cells $S$, with cardinality $n$, we built\n",
        "\\begin{equation} ⋀_{I ⊂ S, \\ |I|=n-k+1}⋁_{(i,j) \\in I} X_{ij} \\quad \\quad \\quad \\text{(at least k)}\\end{equation}\n",
        "and\n",
        "\\begin{equation} ⋀_{I ⊂ S, \\ |I|=k+1}⋁_{(i,j) \\in I} \\neg X_{ij} \\quad \\quad \\quad \\text{(at most k)}\\end{equation}\n",
        "\n",
        "This was because in this case the number $n$ of adjacent cells is limited by $8$, so the total number of clauses does not grow too much. \n",
        "\n",
        "But the cardinality constrain of point 3 cannot be treated in the same way because it would need too many clauses. Therefore we used a cardinality encoder given in the *pysat* module (that reduces the number of needed clauses by introducing auxiliary variables). See [pysathq.github.io/docs/html/api/card.html](https://pysathq.github.io/docs/html/api/card.html) for the relative documentation."
      ],
      "metadata": {
        "id": "a2JW4GoZ4tey"
      }
    },
    {
      "cell_type": "code",
      "source": [
        "def variable_mine_at(n_cols, position):\n",
        "  '''\n",
        "  produce a different number for each cell, representing a propositional variable saying \"a mine is there\".\n",
        "  '''\n",
        "  return 1 + position[0] * n_cols + position[1]\n",
        "\n",
        "def proposition_exactly_k_neighboring_mines(board, position, k):\n",
        "  '''\n",
        "  given a position and the number k of adjacent mines, it encodes the proposition saying \"there are exactly k mines among the adjacent cells\"\n",
        "  '''\n",
        "  adj = board.adjacent_cells(position)\n",
        "  n = len(adj)\n",
        "  clauses=[]\n",
        "  for I in combinations(adj, n-k+1):  # at least k\n",
        "    clauses.append([variable_mine_at(board.n_cols, i) for i in I])\n",
        "  for I in combinations(adj, k+1):  # at most k\n",
        "    clauses.append([-variable_mine_at(board.n_cols, i) for i in I])\n",
        "  return clauses\n",
        "\n",
        "def proposition_total_number_of_mines(board):\n",
        "  '''\n",
        "  it encodes the proposition saying \"there are exactly k mines among all cells, where k is the total number of mines specified by the game\"\n",
        "  '''\n",
        "  available_positions = board.still_covered_cells()\n",
        "  variables = [variable_mine_at(board.n_cols, pos) for pos in available_positions]\n",
        "  n = board.n_rows * board.n_cols\n",
        "  k = board.n_mines\n",
        "  cnf = CardEnc.equals(variables, k, top_id=n) # top_id=n means that the cardinality encoder can produce auxiliary varibles starting from n+1\n",
        "  return cnf.clauses\n",
        "\n",
        "def generate_propositions(board, satsolver):\n",
        "  '''\n",
        "  it feeds the given satsolver with the formula specifying the total number of mines and, \n",
        "  if there are already revealed numbers on the board, also the formulas representing all the implied constrains.\n",
        "  '''\n",
        "  for row in range(board.n_rows):\n",
        "    for col in range(board.n_cols):\n",
        "      k = board.board[row,col]\n",
        "      if k >=0:\n",
        "        satsolver.add_clause([-variable_mine_at(board.n_cols, (row,col))])                      # point 1 of the discussion\n",
        "        satsolver.append_formula(proposition_exactly_k_neighboring_mines(board, (row,col), k))  # point 2 of the discussion\n",
        "  satsolver.append_formula(proposition_total_number_of_mines(board))                            # point 3 of the discussion"
      ],
      "metadata": {
        "id": "mXBKRi_ggE80"
      },
      "execution_count": 4,
      "outputs": []
    },
    {
      "cell_type": "markdown",
      "source": [
        "Now we can build functions that, given a position and a satsolver feeded with the axioms previously seen, tells us if the position is safe or not, and if it surely has a mine or not. The first is given by checking if the axioms plus the literal $X_{ij}$ (corresponding to the position) gives UNSAT: if it is the case, then it is valid *not* having a mine in that position, meaning that the position is safe and we can click on confidently. The second is given by checking if the axioms plus the literal $\\neg X_{ij}$ gives UNSAT: if it is the case, then it is valid having a mine in that position, meaning that we can confidently say that there is a mine there."
      ],
      "metadata": {
        "id": "HUGU8NEVBhlz"
      }
    },
    {
      "cell_type": "code",
      "source": [
        "def check_safe_position_at(board, position, satsolver): \n",
        "  ''' \n",
        "  return True if the satsolver can infer that there is no mine at the given position, False otherwise\n",
        "  '''\n",
        "  return not satsolver.solve(assumptions=[variable_mine_at(board.n_cols, position)]) \n",
        "\n",
        "def check_mine_at(board, position, satsolver): \n",
        "  ''' \n",
        "  return True if the satsolver can infer that there is surely a mine at the given position, False otherwise\n",
        "  '''\n",
        "  return not satsolver.solve(assumptions=[-variable_mine_at(board.n_cols, position)])"
      ],
      "metadata": {
        "id": "ZCbTCo8O9Z2q"
      },
      "execution_count": 6,
      "outputs": []
    },
    {
      "cell_type": "markdown",
      "source": [
        "Before constructing the complete algorithm for solving the game, we need a way to handle the case in which we find no safe position, and we want to choose the most probable one, that is the one that allows for more models in which it is safe. We do that using model counting, but in the *pysat* module the only function allowing for that is one generating all models one by one. This is not very efficient, but it is enough for our purposes, thanks to a simple trick.\n",
        "\n",
        "Our trick is to consider separately the covered cells adjacent to at least one cell with a visible number, which we will call \"bounded cells\", and the covered cells not adjacent to any cell with a visible number, which we will call \"free cells\". This is because the only constrain we have on the positions of the mines among the free cell is on the total cardinality, and, fixed that, any disposition is equally likely. This mean that assuming to have exactly $k$ mines among the $n$ free cells, the possible dispositions are simply $\\binom{n}{k}$. Therefore, any model for the bounded cells leaving out exactly $k$ mines to be on the free cells gives rise to exactly  $\\binom{n}{k}$ different general models. This reduces a lot the enumerations of models we need to perform. \n",
        "\n",
        "In the end, first we consider the number of models not having a mine on the first free cell (if there exists one). It should be clear from our discussion that this is equal to the number of models not having a mine on any other specific free cell, so that is why we consider just the first free cell. Again from the previous discussion it follows that such number of models is\n",
        "\\begin{equation} \\sum_{k} \\binom{n-1}{k} \\#SAT_{\\text{bounded cells}}(k) \\end{equation}\n",
        "\n",
        "where $n$ is the number of free cells, $\\#SAT_{\\text{bounded cells}}(k)$ is the number of models for the bounded cells leaving out exactly $k$ mines to be placed on the free cells, and the sum goes from $k=\\max(0,\\#mines-\\#bounded cells)$ to $k=\\min(n-1, \\#mines)$.\n",
        "Then, we cycle through the bounded cells, and for each one we compute in a similar way the number of models not having a mine in that position, which is\n",
        "\\begin{equation} \\sum_{k} \\binom{n}{k} \\#SAT_{\\text{bounded cells}}(k, position) \\end{equation}\n",
        "where again $n$ is the number of free cells, but now $\\#SAT_{\\text{bounded cells}}(k, position)$ is the number of models for the bounded cells leaving out exactly $k$ mines to be placed on the free cells and such that in *position* there is not a mine, and the sum goes from $k=\\max(0,\\#mines-\\#bounded cells+1)$ to $k=\\min(n, \\#mines)$.\n",
        "\n",
        "\n",
        "**Note**: the function *enum_models* that we are using is built in a way that in order not to find out again a model already found, it negates each model it finds, before looking for another. Therefore, since we do not want exclude permanently those models from possible subsequent calls of the satsolver, we introduce a new auxiliary variable specific for each call of *enum_models*: each call will look for models in which the auxiliary variable is True, and when it is done the variable is forever set to False.\n",
        "\n",
        "**Note2**: Commented there is some code that computes the number of models by simple enumeration, without using our trick. I used it to check that the function calculated the right numbers of models, and you can de-comment and use it for the same purpose. Notice however that it would be highly inefficient to keep it and not use our trick."
      ],
      "metadata": {
        "id": "5fxRak4UEbMR"
      }
    },
    {
      "cell_type": "code",
      "source": [
        "def count_models(satsolver, assumptions):\n",
        "  '''\n",
        "  count the number of models satisfying the given assumptions (and the axioms already given to the satsolver)\n",
        "  '''\n",
        "  return sum(1 for _ in satsolver.enum_models(assumptions=assumptions))\n",
        "\n",
        "def most_probable_safe_position(board, satsolver):\n",
        "  ''' \n",
        "  find a still covered position on the board giving the largest number of models not having a mine in that position\n",
        "  '''\n",
        "  \n",
        "  top_id = satsolver.nof_vars()  # see the first note in the text above\n",
        "  \n",
        "  def assumption_exactly_k_mines_among_free_cells(k):\n",
        "    '''\n",
        "    generate the clauses saying that exactly k mines are placed on free cells\n",
        "    it does so taking in consideration the note in the text above, \n",
        "    and the fact that it is not important where we place the k mines among the free cells, since every model for the free cells is equally likely\n",
        "    '''\n",
        "    assumption = [variable_mine_at(board.n_cols, free_cells[i]) for i in range(k)] # at least k\n",
        "    assumption += [-variable_mine_at(board.n_cols, free_cells[i+k]) for i in range(n_free_cells-k)] # at most k\n",
        "    assumption += [-i for i in range(top_id+1, satsolver.nof_vars()+1)] + [satsolver.nof_vars()+1] # see the first note in the text above\n",
        "    return assumption\n",
        "\n",
        "  #def assumption_note():\n",
        "  #  assumption = [-i for i in range(top_id+1, satsolver.nof_vars()+1)] + [satsolver.nof_vars()+1]\n",
        "  #  return assumption\n",
        "\n",
        "  bounded_cells, free_cells = board.still_covered_cells(separate_cells_with_an_uncovered_neighbor=True)\n",
        "  n_bounded_cells = len(bounded_cells)\n",
        "  n_free_cells = len(free_cells)\n",
        "  counter_n_models = 0\n",
        "  for n_mines_in_free_cells in range(max(0,board.n_mines-n_bounded_cells), min(n_free_cells-1, board.n_mines)+1):\n",
        "    assumption = assumption_exactly_k_mines_among_free_cells(n_mines_in_free_cells)\n",
        "    counter_n_models += count_models(satsolver, assumption) * binom(n_free_cells-1, n_mines_in_free_cells)\n",
        "  #print(\"counter (first case)          :\", counter_n_models)\n",
        "  #print(\"total enumeration (first case):\", count_models(satsolver, assumption_note()+[-variable_mine_at(board.n_cols, free_cells[0])]))\n",
        "  if n_free_cells > 0: \n",
        "    maximum = counter_n_models\n",
        "    best_option = free_cells[0]\n",
        "  else:\n",
        "    maximum = 0 \n",
        "    best_option = None\n",
        "  for position in bounded_cells:\n",
        "    counter_n_models = 0\n",
        "    for n_mines_in_free_cells in range(max(0,board.n_mines-n_bounded_cells+1), min(n_free_cells, board.n_mines)+1):\n",
        "      assumption = assumption_exactly_k_mines_among_free_cells(n_mines_in_free_cells) + [-variable_mine_at(board.n_cols, position)]\n",
        "      counter_n_models += count_models(satsolver, assumption) * binom(n_free_cells, n_mines_in_free_cells)\n",
        "    #print(\"counter (second case)          :\", counter_n_models)\n",
        "    #print(\"total enumeration (second case):\", count_models(satsolver, assumption_note()+[-variable_mine_at(board.n_cols, position)]))\n",
        "    if counter_n_models > maximum:\n",
        "      maximum = counter_n_models\n",
        "      best_option = position\n",
        "  satsolver.append_formula([[-i] for i in range(top_id+1, satsolver.nof_vars()+1)]) # see the first note in the text above\n",
        "  return best_option"
      ],
      "metadata": {
        "id": "6ll0MMZ4n7jB"
      },
      "execution_count": 15,
      "outputs": []
    },
    {
      "cell_type": "code",
      "source": [
        "def play_game(board, steps_after_which_showing_board=10):\n",
        "  counter_for_showing_board = 0\n",
        "  n_mines_found = 0\n",
        "  solver = Minisat22()\n",
        "  generate_propositions(board, solver)\n",
        "  game_over_flag = False\n",
        "  while not game_over_flag:\n",
        "    safe_positions_found = 0\n",
        "    bounded_cells, free_cells = board.still_covered_cells(separate_cells_with_an_uncovered_neighbor=True)\n",
        "    if len(free_cells) > 0:\n",
        "      cells_to_try = bounded_cells + [free_cells[0]]\n",
        "    else:\n",
        "      cells_to_try = bounded_cells\n",
        "    for position in cells_to_try:\n",
        "      if (board.board[position] == -1 and check_mine_at(board, position, solver)): \n",
        "        solver.add_clause([variable_mine_at(board.n_cols, position)]) # add clause saying we've found a mine\n",
        "        board.board[position] = -2\n",
        "        n_mines_found += 1\n",
        "        print(\"Found mine in position {}\".format(position))\n",
        "      if (board.board[position] == -1 and check_safe_position_at(board, position, solver)):  # if position safe, then ...\n",
        "        n_adj_mines = board.reveal_position(position, True) # ... reveal position ...\n",
        "        if n_adj_mines < 0:\n",
        "          game_over_flag = True\n",
        "          print(\"Game Over: the program has lost\")\n",
        "          break\n",
        "        solver.append_formula(proposition_exactly_k_neighboring_mines(board, position, n_adj_mines))\n",
        "        solver.add_clause([-variable_mine_at(board.n_cols, position)])\n",
        "        safe_positions_found += 1\n",
        "    if safe_positions_found == 0 and not game_over_flag and n_mines_found == board.n_mines:\n",
        "      print(\"The program has won!\")\n",
        "      board.show(True)\n",
        "      break\n",
        "    elif safe_positions_found == 0 and not game_over_flag:\n",
        "      position_to_try = most_probable_safe_position(board, solver)\n",
        "      n_adj_mines = board.reveal_position(position_to_try, True) # ... reveal position ...\n",
        "      if n_adj_mines < 0:\n",
        "        game_over_flag = True\n",
        "        print(\"Game Over: the program has lost\")\n",
        "        break\n",
        "      solver.append_formula(proposition_exactly_k_neighboring_mines(board, position_to_try, n_adj_mines))\n",
        "      solver.add_clause([-variable_mine_at(board.n_cols, position_to_try)])\n",
        "  solver.delete()\n",
        "  return not game_over_flag"
      ],
      "metadata": {
        "id": "9MfPB9OdEeb6"
      },
      "execution_count": 12,
      "outputs": []
    },
    {
      "cell_type": "code",
      "source": [
        "def statistics(n_rows, n_cols, n_mines, sample_size):\n",
        "  for i in range(sample_size):\n",
        "    new_board = Board(n_rows, n_cols, n_mines)\n",
        "    play_game(new_board)"
      ],
      "metadata": {
        "id": "b0SJi_T-eXjx"
      },
      "execution_count": null,
      "outputs": []
    },
    {
      "cell_type": "code",
      "source": [
        "example = Board(4, 4, 6)\n",
        "example.randomly_fill_in(0)\n",
        "example.show(True)"
      ],
      "metadata": {
        "id": "u8xZ79d-8bEW"
      },
      "execution_count": null,
      "outputs": []
    },
    {
      "cell_type": "code",
      "source": [
        "play_game(example)"
      ],
      "metadata": {
        "id": "rE3aLXeQFhnx"
      },
      "execution_count": null,
      "outputs": []
    },
    {
      "cell_type": "markdown",
      "source": [
        "TO DO:\n",
        "\n",
        "\n",
        "*   verbosity\n",
        "*   comments\n",
        "*   statistics\n",
        "\n"
      ],
      "metadata": {
        "id": "fHPpSItjgHVI"
      }
    }
  ],
  "metadata": {
    "kernelspec": {
      "display_name": "Python 3",
      "name": "python3"
    },
    "language_info": {
      "name": "python"
    },
    "colab": {
      "name": "Minesweeper with SATsolver.ipynb",
      "provenance": [],
      "collapsed_sections": [],
      "include_colab_link": true
    },
    "gpuClass": "standard"
  },
  "nbformat": 4,
  "nbformat_minor": 0
}