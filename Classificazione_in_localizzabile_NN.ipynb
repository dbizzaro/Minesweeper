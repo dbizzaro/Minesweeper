{
  "nbformat": 4,
  "nbformat_minor": 0,
  "metadata": {
    "colab": {
      "provenance": [],
      "include_colab_link": true
    },
    "kernelspec": {
      "name": "python3",
      "display_name": "Python 3"
    },
    "language_info": {
      "name": "python"
    },
    "accelerator": "GPU",
    "gpuClass": "standard"
  },
  "cells": [
    {
      "cell_type": "markdown",
      "metadata": {
        "id": "view-in-github",
        "colab_type": "text"
      },
      "source": [
        "<a href=\"https://colab.research.google.com/github/dbizzaro/Minesweeper/blob/main/Classificazione_in_localizzabile_NN.ipynb\" target=\"_parent\"><img src=\"https://colab.research.google.com/assets/colab-badge.svg\" alt=\"Open In Colab\"/></a>"
      ]
    },
    {
      "cell_type": "markdown",
      "source": [
        "# Usiamo ResNet50 per classificare le immagini in localizzabili oppure no"
      ],
      "metadata": {
        "id": "y9h03PSsOFFd"
      }
    },
    {
      "cell_type": "code",
      "source": [
        "import os\n",
        "import sys\n",
        "from pathlib import Path\n",
        "\n",
        "# with this line we can check if we are in colab or not\n",
        "in_colab = 'google.colab' in sys.modules\n",
        "print(\"are we in Colab?:\",in_colab)\n",
        "\n",
        "cwd = Path(os.getcwd())\n",
        "if in_colab:\n",
        "    from google.colab import drive\n",
        "    drive.mount('/gdrive')\n",
        "    !pip install -q condacolab\n",
        "    import condacolab\n",
        "    condacolab.install()\n",
        "    os.chdir('/gdrive/MyDrive/GeoEstimation')\n",
        "    \n",
        "else:\n",
        "    #our defult wd in local should be Vision_Project\n",
        "    if str(cwd)[-14:] == 'Vision_Project':\n",
        "        os.chdir(cwd / 'GeoEstimation')\n",
        "    sys.path.append(cwd / 'GeoEstimation')"
      ],
      "metadata": {
        "colab": {
          "base_uri": "https://localhost:8080/"
        },
        "id": "qve3sn1MzJ09",
        "outputId": "a2196c25-5948-4a77-d758-18b43885f2fb"
      },
      "execution_count": 1,
      "outputs": [
        {
          "output_type": "stream",
          "name": "stdout",
          "text": [
            "are we in Colab?: True\n",
            "Mounted at /gdrive\n",
            "⏬ Downloading https://github.com/jaimergp/miniforge/releases/latest/download/Mambaforge-colab-Linux-x86_64.sh...\n",
            "📦 Installing...\n",
            "📌 Adjusting configuration...\n",
            "🩹 Patching environment...\n",
            "⏲ Done in 0:00:14\n",
            "🔁 Restarting kernel...\n"
          ]
        }
      ]
    },
    {
      "cell_type": "code",
      "source": [
        "from tensorflow.keras.datasets import cifar10\n",
        "from tensorflow.keras.applications.resnet50 import preprocess_input\n",
        "from tensorflow.keras.utils import to_categorical\n",
        "from tensorflow.keras import Input\n",
        "from tensorflow.keras.applications import ResNet50\n",
        "from tensorflow.keras.optimizers import SGD, Adam\n",
        "from tensorflow.keras.models import Sequential\n",
        "from tensorflow.keras.layers import Flatten, Dense, Dropout\n",
        "\n",
        "from tensorflow.keras.preprocessing import image\n",
        "from tensorflow.keras.preprocessing.image import img_to_array\n",
        "from tensorflow.keras.applications.resnet50 import preprocess_input\n",
        "from tensorflow.keras.applications.imagenet_utils import decode_predictions\n",
        "\n",
        "import matplotlib.pyplot as plt\n",
        "import pandas as pd\n",
        "import numpy as np\n",
        "\n",
        "from sklearn.model_selection import train_test_split\n",
        "from sklearn.metrics import accuracy_score\n",
        "\n",
        "import os\n",
        "import sys\n",
        "from pathlib import Path\n",
        "from PIL import Image\n",
        "from numpy import asarray\n",
        "import multiprocessing as mp"
      ],
      "metadata": {
        "id": "Yp3uAoEq-WML"
      },
      "execution_count": 1,
      "outputs": []
    },
    {
      "cell_type": "code",
      "execution_count": 2,
      "metadata": {
        "id": "C3OV84r9zGDM"
      },
      "outputs": [],
      "source": [
        "dataset = pd.read_csv(\"/gdrive/MyDrive/GeoEstimation/resources/im2gps3k_places365_classified.csv\").dropna()"
      ]
    },
    {
      "cell_type": "code",
      "source": [
        "dataset2 = pd.read_csv(\"/gdrive/MyDrive/GeoEstimation/resources/yfcc4k.csv\").dropna()"
      ],
      "metadata": {
        "id": "I50nfkR5YO02"
      },
      "execution_count": 8,
      "outputs": []
    },
    {
      "cell_type": "code",
      "source": [
        "images = [\"/gdrive/MyDrive/GeoEstimation/resources/images/im2gps3k/{}\".format(img) for img in dataset['IMG_ID']]"
      ],
      "metadata": {
        "id": "05gL7vba_C47"
      },
      "execution_count": 4,
      "outputs": []
    },
    {
      "cell_type": "code",
      "source": [
        "images2 = [\"/gdrive/MyDrive/GeoEstimation/resources/images/yfcc4k/{}\".format(img) for img in dataset['IMG_ID']]"
      ],
      "metadata": {
        "id": "3Gd8ILHAZZT9"
      },
      "execution_count": 9,
      "outputs": []
    },
    {
      "cell_type": "code",
      "source": [
        "#images = [\"/gdrive/MyDrive/GeoEstimation/resources/images/im2gps3k/{}\".format(img) for img in dataset['IMG_ID']]\n",
        "#img_all = [Image.open(image) for image in images]\n",
        "#img_data = [asarray(img) for img in img_all]"
      ],
      "metadata": {
        "id": "q1prIQSh_rCw"
      },
      "execution_count": null,
      "outputs": []
    },
    {
      "cell_type": "code",
      "source": [
        "# a function to load all the images in an array format in img_array\n",
        "# other \"easier solutions\" were really slow, this works fine\n",
        "import tensorflow as tf\n",
        "tf.config.set_visible_devices([], 'GPU')\n",
        "\n",
        "def load_image(image_path):\n",
        "    with Image.open(image_path) as img:\n",
        "        img = img.resize((256, 256))\n",
        "        return np.asarray(img)\n",
        "\n",
        "# Crea una pool di processi\n",
        "with mp.Pool() as pool:\n",
        "  # Carica le immagini in parallelo\n",
        "  images = [\"/gdrive/MyDrive/GeoEstimation/resources/images/im2gps3k/{}\".format(img) for img in dataset['IMG_ID']]\n",
        "  img_data = pool.map(load_image, images)\n",
        "\n",
        "# Crea un array multidimensionale a partire dalla lista di array numpy\n",
        "img_array = np.stack(img_data)\n"
      ],
      "metadata": {
        "id": "TU6uhK1fBCvL"
      },
      "execution_count": null,
      "outputs": []
    },
    {
      "cell_type": "code",
      "source": [
        "# now we can re-set the GPU\n",
        "import tensorflow as tf\n",
        "tf.config.set_visible_devices(tf.config.list_physical_devices('GPU')[0], 'GPU')"
      ],
      "metadata": {
        "id": "c5-5q0XnbdDQ"
      },
      "execution_count": 6,
      "outputs": []
    },
    {
      "cell_type": "code",
      "source": [
        "img_array.shape"
      ],
      "metadata": {
        "colab": {
          "base_uri": "https://localhost:8080/"
        },
        "id": "LUgZOJiMB0TB",
        "outputId": "37bdc9fa-2488-49ea-ebd8-33aec2349b76"
      },
      "execution_count": 7,
      "outputs": [
        {
          "output_type": "execute_result",
          "data": {
            "text/plain": [
              "(2997, 256, 256, 3)"
            ]
          },
          "metadata": {},
          "execution_count": 7
        }
      ]
    },
    {
      "cell_type": "code",
      "source": [
        "# the labels\n",
        "label_array = np.array(dataset['LOC']).reshape((2997, 1))"
      ],
      "metadata": {
        "id": "DHU3bHimG6BR"
      },
      "execution_count": 8,
      "outputs": []
    },
    {
      "cell_type": "code",
      "source": [
        "labels_int = label_array.astype(int)\n",
        "\n",
        "# Conto gli zeri, gli uni e i due nell'array\n",
        "count = np.bincount(labels_int.flatten())\n",
        "\n",
        "# Stampo i risultati\n",
        "print(f\"Zeri: {count[0]}\")\n",
        "print(f\"Uni: {count[1]}\")\n",
        "print(f\"Due: {count[2]}\")"
      ],
      "metadata": {
        "colab": {
          "base_uri": "https://localhost:8080/"
        },
        "id": "4dYXWB-jHbdF",
        "outputId": "6c1df78e-6d71-436c-f391-062f33901d89"
      },
      "execution_count": 9,
      "outputs": [
        {
          "output_type": "stream",
          "name": "stdout",
          "text": [
            "Zeri: 805\n",
            "Uni: 671\n",
            "Due: 1521\n"
          ]
        }
      ]
    },
    {
      "cell_type": "code",
      "source": [
        "# train-test split\n",
        "X_train, X_test, y_train, y_test = train_test_split(img_array, label_array, test_size=0.16, random_state=123)"
      ],
      "metadata": {
        "id": "wuVea11HH4Zn"
      },
      "execution_count": 10,
      "outputs": []
    },
    {
      "cell_type": "code",
      "source": [
        "y_int = y_train.astype(int)\n",
        "\n",
        "# Conto gli zeri, gli uni e i due nell'array\n",
        "count = np.bincount(y_int.flatten())\n",
        "\n",
        "# Stampo i risultati\n",
        "print(f\"Zeri: {count[0]}\")\n",
        "print(f\"Uni: {count[1]}\")\n",
        "print(f\"Due: {count[2]}\")"
      ],
      "metadata": {
        "id": "3RH9_Lf1nXDW",
        "outputId": "435ce4d6-7c5f-42fb-d8d6-4de5510ffadc",
        "colab": {
          "base_uri": "https://localhost:8080/"
        }
      },
      "execution_count": 11,
      "outputs": [
        {
          "output_type": "stream",
          "name": "stdout",
          "text": [
            "Zeri: 673\n",
            "Uni: 564\n",
            "Due: 1280\n"
          ]
        }
      ]
    },
    {
      "cell_type": "code",
      "source": [
        "yt_int = y_test.astype(int)\n",
        "# Conto gli zeri, gli uni e i due nell'array\n",
        "count = np.bincount(yt_int.flatten())\n",
        "\n",
        "# Stampo i risultati\n",
        "print(f\"Zeri: {count[0]}\")\n",
        "print(f\"Uni: {count[1]}\")\n",
        "print(f\"Due: {count[2]}\")"
      ],
      "metadata": {
        "id": "aOhG-ScDnihJ",
        "outputId": "fb2f89d9-95b8-4b82-df9f-77503d2d08a1",
        "colab": {
          "base_uri": "https://localhost:8080/"
        }
      },
      "execution_count": 12,
      "outputs": [
        {
          "output_type": "stream",
          "name": "stdout",
          "text": [
            "Zeri: 132\n",
            "Uni: 107\n",
            "Due: 241\n"
          ]
        }
      ]
    },
    {
      "cell_type": "code",
      "source": [
        "# processing data for one-hot encoding\n",
        "def preprocess_data(X, Y):\n",
        "  X_p = preprocess_input(X)\n",
        "  Y_p = to_categorical(Y, 3)\n",
        "  return X_p, Y_p"
      ],
      "metadata": {
        "id": "X8H8pyzrIaoo"
      },
      "execution_count": 13,
      "outputs": []
    },
    {
      "cell_type": "code",
      "source": [
        "# one hot encoding applied both to train and test sets\n",
        "X_train, y_train = preprocess_data(X_train, y_train)\n",
        "X_test, y_test = preprocess_data(X_test, y_test)"
      ],
      "metadata": {
        "id": "flbQ9Dl7Iamj"
      },
      "execution_count": 14,
      "outputs": []
    },
    {
      "cell_type": "code",
      "source": [
        "# the model\n",
        "input_t = Input(shape=(256, 256, 3))\n",
        "res_model = ResNet50(include_top=False, #resnet50\n",
        "                   weights='imagenet', #pretrained from imagenet\n",
        "                   input_tensor=input_t)"
      ],
      "metadata": {
        "id": "tIR_S__uIaeP"
      },
      "execution_count": 15,
      "outputs": []
    },
    {
      "cell_type": "code",
      "source": [
        "# set all the layers not-trainable\n",
        "for layer in res_model.layers[:]:\n",
        "  layer.trainable = False"
      ],
      "metadata": {
        "id": "qki4H0z5IaZi"
      },
      "execution_count": 16,
      "outputs": []
    },
    {
      "cell_type": "code",
      "source": [
        "# add trainable layers to performe the classification\n",
        "model = Sequential()\n",
        "model.add(res_model)\n",
        "model.add(tf.keras.layers.AveragePooling2D(pool_size=(2, 2), strides=(2, 2), padding='valid'))\n",
        "model.add(Flatten())\n",
        "model.add(Dropout(0.5))\n",
        "model.add(Dense(3, activation='softmax'))"
      ],
      "metadata": {
        "id": "u9G3W37jIaXk"
      },
      "execution_count": 17,
      "outputs": []
    },
    {
      "cell_type": "code",
      "source": [
        "# compile and fit\n",
        "model.compile(loss='categorical_crossentropy',\n",
        "              optimizer=SGD(learning_rate=0.05),\n",
        "              metrics=['accuracy'])\n",
        "history = model.fit(X_train, y_train, batch_size=32, epochs=6, verbose=1)\n",
        "model.summary()"
      ],
      "metadata": {
        "colab": {
          "base_uri": "https://localhost:8080/"
        },
        "id": "LcUkjOXUI9g6",
        "outputId": "9e6a9e0d-dc9a-4554-ce95-e8b13635af7c"
      },
      "execution_count": 18,
      "outputs": [
        {
          "output_type": "stream",
          "name": "stdout",
          "text": [
            "Epoch 1/6\n",
            "79/79 [==============================] - 24s 129ms/step - loss: 143.6975 - accuracy: 0.6226\n",
            "Epoch 2/6\n",
            "79/79 [==============================] - 9s 119ms/step - loss: 55.8168 - accuracy: 0.7716\n",
            "Epoch 3/6\n",
            "79/79 [==============================] - 10s 121ms/step - loss: 28.3318 - accuracy: 0.8530\n",
            "Epoch 4/6\n",
            "79/79 [==============================] - 10s 121ms/step - loss: 17.2095 - accuracy: 0.8979\n",
            "Epoch 5/6\n",
            "79/79 [==============================] - 10s 121ms/step - loss: 9.5348 - accuracy: 0.9209\n",
            "Epoch 6/6\n",
            "79/79 [==============================] - 10s 123ms/step - loss: 8.5189 - accuracy: 0.9337\n",
            "Model: \"sequential\"\n",
            "_________________________________________________________________\n",
            " Layer (type)                Output Shape              Param #   \n",
            "=================================================================\n",
            " resnet50 (Functional)       (None, 8, 8, 2048)        23587712  \n",
            "                                                                 \n",
            " average_pooling2d (AverageP  (None, 7, 7, 2048)       0         \n",
            " ooling2D)                                                       \n",
            "                                                                 \n",
            " flatten (Flatten)           (None, 100352)            0         \n",
            "                                                                 \n",
            " dropout (Dropout)           (None, 100352)            0         \n",
            "                                                                 \n",
            " dense (Dense)               (None, 3)                 301059    \n",
            "                                                                 \n",
            "=================================================================\n",
            "Total params: 23,888,771\n",
            "Trainable params: 301,059\n",
            "Non-trainable params: 23,587,712\n",
            "_________________________________________________________________\n"
          ]
        }
      ]
    },
    {
      "cell_type": "code",
      "source": [
        "# test\n",
        "test_loss, test_acc = model.evaluate(X_test, y_test)"
      ],
      "metadata": {
        "colab": {
          "base_uri": "https://localhost:8080/"
        },
        "id": "P9nXGFQJI9cw",
        "outputId": "fed348ef-44de-4de3-81f9-6ca399ec066f"
      },
      "execution_count": 19,
      "outputs": [
        {
          "output_type": "stream",
          "name": "stdout",
          "text": [
            "15/15 [==============================] - 3s 119ms/step - loss: 107.5589 - accuracy: 0.7021\n"
          ]
        }
      ]
    },
    {
      "cell_type": "code",
      "source": [],
      "metadata": {
        "id": "0VR4KF8FI9ak"
      },
      "execution_count": null,
      "outputs": []
    }
  ]
}